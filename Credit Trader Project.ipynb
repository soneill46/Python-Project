{
 "cells": [
  {
   "cell_type": "code",
   "execution_count": 1,
   "metadata": {},
   "outputs": [],
   "source": [
    "import numpy as np\n",
    "import pandas as pd\n",
    "from pandas_datareader import data as wb\n",
    "from scipy import stats\n",
    "import xlsxwriter"
   ]
  },
  {
   "cell_type": "markdown",
   "metadata": {},
   "source": [
    "# Part A"
   ]
  },
  {
   "cell_type": "markdown",
   "metadata": {},
   "source": [
    "# IG"
   ]
  },
  {
   "cell_type": "code",
   "execution_count": 5,
   "metadata": {},
   "outputs": [],
   "source": [
    "data_IG = pd.read_excel('/Users/Mello/Desktop/Python/Credit Trader Programming Project.xlsx', sheet_name='trades_data_IG')\n",
    "IG_TransactionCost_Percent = ((data_IG['SpreadDuration'] / 100) * (data_IG['TradeSpread'] - data_IG['OAS']) * data_IG['TradeDirection'])\n",
    "IG_TransactionCost_Dollar = ((data_IG['TradeSize(MM)'] * (data_IG['Price'] / 100) * 1000000)) * (IG_TransactionCost_Percent / 100)\n",
    "data_IG['TransactionCost ($)'] = IG_TransactionCost_Dollar \n",
    "data_IG['TransactionCost (return%)'] = IG_TransactionCost_Percent"
   ]
  },
  {
   "cell_type": "markdown",
   "metadata": {},
   "source": [
    "# HY"
   ]
  },
  {
   "cell_type": "code",
   "execution_count": 6,
   "metadata": {},
   "outputs": [],
   "source": [
    "#Note - \"Price\" was used to calculate \"TransactionCost (return%)\" to keep the methodology the same as IG.\n",
    "\n",
    "data_HY = pd.read_excel('/Users/Mello/Desktop/Python/Credit Trader Programming Project.xlsx', sheet_name='trades_data_HY')\n",
    "HY_TransactionCost_Percent = (((data_HY['Price'] - data_HY['TradePrice']) * data_HY['TradeDirection']) / data_HY['Price'])*100\n",
    "HY_TransactionCost_Dollar = ((data_HY['TradeSize(MM)'] * (data_HY['Price'] / 100)) * 1000000) * (HY_TransactionCost_Percent / 100)\n",
    "data_HY['TransactionCost ($)'] = HY_TransactionCost_Dollar \n",
    "data_HY['TransactionCost (return%)'] = HY_TransactionCost_Percent"
   ]
  },
  {
   "cell_type": "markdown",
   "metadata": {},
   "source": [
    "# Saving Excel File"
   ]
  },
  {
   "cell_type": "code",
   "execution_count": 7,
   "metadata": {},
   "outputs": [],
   "source": [
    "writer_a = pd.ExcelWriter('/Users/Mello/Desktop/Python/Credit Trader Programming Project.xlsx', engine = 'xlsxwriter')\n",
    "pd.DataFrame(data_HY).to_excel(writer_a, sheet_name='trades_data_HY')\n",
    "pd.DataFrame(data_IG).to_excel(writer_a, sheet_name='trades_data_IG')\n",
    "writer_a.save()\n",
    "writer_a.close()"
   ]
  },
  {
   "cell_type": "markdown",
   "metadata": {},
   "source": [
    "# Part B"
   ]
  },
  {
   "cell_type": "markdown",
   "metadata": {},
   "source": [
    "# IG & HY"
   ]
  },
  {
   "cell_type": "code",
   "execution_count": 8,
   "metadata": {},
   "outputs": [],
   "source": [
    "data_IG_b = pd.read_excel('/Users/Mello/Desktop/Python/Credit Trader Programming Project.xlsx', sheet_name='trades_data_IG')\n",
    "data_HY_b = pd.read_excel('/Users/Mello/Desktop/Python/Credit Trader Programming Project.xlsx', sheet_name='trades_data_HY')"
   ]
  },
  {
   "cell_type": "code",
   "execution_count": 9,
   "metadata": {},
   "outputs": [
    {
     "data": {
      "text/html": [
       "<div>\n",
       "<style scoped>\n",
       "    .dataframe tbody tr th:only-of-type {\n",
       "        vertical-align: middle;\n",
       "    }\n",
       "\n",
       "    .dataframe tbody tr th {\n",
       "        vertical-align: top;\n",
       "    }\n",
       "\n",
       "    .dataframe thead th {\n",
       "        text-align: right;\n",
       "    }\n",
       "</style>\n",
       "<table border=\"1\" class=\"dataframe\">\n",
       "  <thead>\n",
       "    <tr style=\"text-align: right;\">\n",
       "      <th>Sector2</th>\n",
       "      <th>Financial</th>\n",
       "      <th>Industrials</th>\n",
       "      <th>Utility</th>\n",
       "    </tr>\n",
       "  </thead>\n",
       "  <tbody>\n",
       "    <tr>\n",
       "      <th>AAA</th>\n",
       "      <td>NaN</td>\n",
       "      <td>NaN</td>\n",
       "      <td>NaN</td>\n",
       "    </tr>\n",
       "    <tr>\n",
       "      <th>AA</th>\n",
       "      <td>-0.128260</td>\n",
       "      <td>-0.168044</td>\n",
       "      <td>-0.195898</td>\n",
       "    </tr>\n",
       "    <tr>\n",
       "      <th>A</th>\n",
       "      <td>-0.157654</td>\n",
       "      <td>-0.168023</td>\n",
       "      <td>-0.194653</td>\n",
       "    </tr>\n",
       "    <tr>\n",
       "      <th>BBB</th>\n",
       "      <td>-0.195237</td>\n",
       "      <td>-0.195360</td>\n",
       "      <td>-0.204995</td>\n",
       "    </tr>\n",
       "    <tr>\n",
       "      <th>BB</th>\n",
       "      <td>-0.378987</td>\n",
       "      <td>-0.360503</td>\n",
       "      <td>-0.343406</td>\n",
       "    </tr>\n",
       "    <tr>\n",
       "      <th>B</th>\n",
       "      <td>-0.427558</td>\n",
       "      <td>-0.410288</td>\n",
       "      <td>-0.433920</td>\n",
       "    </tr>\n",
       "    <tr>\n",
       "      <th>CCC</th>\n",
       "      <td>-0.611193</td>\n",
       "      <td>-0.532121</td>\n",
       "      <td>NaN</td>\n",
       "    </tr>\n",
       "    <tr>\n",
       "      <th>CC</th>\n",
       "      <td>NaN</td>\n",
       "      <td>-1.071886</td>\n",
       "      <td>NaN</td>\n",
       "    </tr>\n",
       "    <tr>\n",
       "      <th>C</th>\n",
       "      <td>NaN</td>\n",
       "      <td>-1.170367</td>\n",
       "      <td>NaN</td>\n",
       "    </tr>\n",
       "  </tbody>\n",
       "</table>\n",
       "</div>"
      ],
      "text/plain": [
       "Sector2  Financial  Industrials   Utility\n",
       "AAA            NaN          NaN       NaN\n",
       "AA       -0.128260    -0.168044 -0.195898\n",
       "A        -0.157654    -0.168023 -0.194653\n",
       "BBB      -0.195237    -0.195360 -0.204995\n",
       "BB       -0.378987    -0.360503 -0.343406\n",
       "B        -0.427558    -0.410288 -0.433920\n",
       "CCC      -0.611193    -0.532121       NaN\n",
       "CC             NaN    -1.071886       NaN\n",
       "C              NaN    -1.170367       NaN"
      ]
     },
     "execution_count": 9,
     "metadata": {},
     "output_type": "execute_result"
    }
   ],
   "source": [
    "data_IG_b['Rating'].replace(['AAA'], 'AAA', inplace = True)\n",
    "dfAAA = data_IG_b[ data_IG_b['Rating'] == 'AAA']\n",
    "\n",
    "data_IG_b['Rating'].replace(['AA1', 'AA2', 'AA3'], 'AA', inplace = True)\n",
    "dfAA = data_IG_b[ data_IG_b['Rating'] == 'AA']\n",
    "\n",
    "data_IG_b['Rating'].replace(['A1', 'A2', 'A3'], 'A', inplace = True)\n",
    "dfA = data_IG_b[ data_IG_b['Rating'] == 'A']\n",
    "\n",
    "data_IG_b['Rating'].replace(['BBB1', 'BBB2', 'BBB3'], 'BBB', inplace = True)\n",
    "dfBBB = data_IG_b[ data_IG_b['Rating'] == 'BBB']\n",
    "\n",
    "data_HY_b['Rating'].replace(['BB1', 'BB2', 'BB3'], 'BB', inplace = True)\n",
    "dfBB = data_HY_b[ data_HY_b['Rating'] == 'BB']\n",
    "\n",
    "data_HY_b['Rating'].replace(['B1', 'B2', 'B3'], 'B', inplace = True)\n",
    "dfB = data_HY_b[ data_HY_b['Rating'] == 'B']\n",
    "\n",
    "data_HY_b['Rating'].replace(['CCC1', 'CCC2', 'CCC3'], 'CCC', inplace = True)\n",
    "dfCCC = data_HY_b[ data_HY_b['Rating'] == 'CCC']\n",
    "\n",
    "data_HY_b['Rating'].replace(['CC'], 'CC', inplace = True)\n",
    "dfCC = data_HY_b[ data_HY_b['Rating'] == 'CC']\n",
    "\n",
    "data_HY_b['Rating'].replace(['C'], 'C', inplace = True)\n",
    "dfC = data_HY_b[ data_HY_b['Rating'] == 'C']\n",
    "\n",
    "\n",
    "statAAA = dfAAA.groupby('Sector2')['TransactionCost (return%)'].mean()\n",
    "statAA = dfAA.groupby('Sector2')['TransactionCost (return%)'].mean()\n",
    "statA = dfA.groupby('Sector2')['TransactionCost (return%)'].mean()\n",
    "statBBB = dfBBB.groupby('Sector2')['TransactionCost (return%)'].mean()\n",
    "statBB = dfBB.groupby('Sector2')['TransactionCost (return%)'].mean()\n",
    "statB = dfB.groupby('Sector2')['TransactionCost (return%)'].mean()\n",
    "statCCC = dfCCC.groupby('Sector2')['TransactionCost (return%)'].mean()\n",
    "statCC = dfCC.groupby('Sector2')['TransactionCost (return%)'].mean()\n",
    "statC = dfC.groupby('Sector2')['TransactionCost (return%)'].mean()\n",
    "\n",
    "dfs = pd.DataFrame()\n",
    "\n",
    "dfs['AAA'] = statAAA\n",
    "dfs['AA'] = statAA\n",
    "dfs['A'] = statA\n",
    "dfs['BBB'] = statBBB\n",
    "dfs['BB'] = statBB\n",
    "dfs['B'] = statB\n",
    "dfs['CCC'] = statCCC\n",
    "dfs['CC'] = statCC\n",
    "dfs['C'] = statC\n",
    "\n",
    "dfs.transpose()"
   ]
  },
  {
   "cell_type": "code",
   "execution_count": 10,
   "metadata": {},
   "outputs": [],
   "source": [
    "dfs.transpose().to_excel('/Users/Mello/Desktop/Python/trade_returns.xlsx')"
   ]
  }
 ],
 "metadata": {
  "kernelspec": {
   "display_name": "Python 2",
   "language": "python",
   "name": "python2"
  },
  "language_info": {
   "codemirror_mode": {
    "name": "ipython",
    "version": 2
   },
   "file_extension": ".py",
   "mimetype": "text/x-python",
   "name": "python",
   "nbconvert_exporter": "python",
   "pygments_lexer": "ipython2",
   "version": "2.7.15"
  }
 },
 "nbformat": 4,
 "nbformat_minor": 2
}
